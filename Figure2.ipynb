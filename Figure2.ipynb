{
 "cells": [
  {
   "cell_type": "code",
   "execution_count": 17,
   "metadata": {},
   "outputs": [
    {
     "data": {
      "image/png": "[encoded data removed]",
      "text/plain": [
       "<Figure size 1080x504 with 15 Axes>"
      ]
     },
     "metadata": {
      "needs_background": "light"
     },
     "output_type": "display_data"
    }
   ],
   "source": [
    "#figure 2\n",
    "\n",
    "from tkinter.tix import INTEGER\n",
    "from tokenize import Double\n",
    "import pandas as pd\n",
    "from matplotlib import pyplot as plt\n",
    "import matplotlib.ticker as mtick\n",
    "\n",
    "\n",
    "#This shouldn't need to change. If it's not working, double check the file is in the root folder of the repo.\n",
    "figure_directory = \"Figures\"\n",
    "data_directory = \"Cleaned Data\\Figure 2 Data Simplified and Cleaned.xlsx\"\n",
    "data = pd.read_excel(data_directory)\n",
    "\n",
    "#This will be used to make our \"Year Target\" plots. Will become Circle, Square, and Upfacing Triangle respectively.\n",
    "symbols = ['o','s','^']\n",
    "\n",
    "#This is where we prep the data for plotting - don't know how usefull this loop is for figure 2. \n",
    "target_years = data['Target Year'].dropna().unique().astype(str)\n",
    "iterations = 0\n",
    "#for year in target_years:\n",
    "    #target_years[iterations] = year.replace(\".0\", \"\")\n",
    "   # iterations += 1\n",
    "data['Target Percentile']=data['Target Percentile'].replace({50.0:'Average', 80.0:'Above\\nAverage', 100.0:'Top\\nPerformer'}) \n",
    "target_percentiles = data['Target Percentile'].dropna().unique().astype(str) #still has \"None\" values- how to get rid of?\n",
    "iterations = 0\n",
    "#Critical line of code needed to update the excel data. This will make the \"50\" \"80\" \"100\" become the new names we want \"Average\" \"above...\"\n",
    "#print(target_percentiles)\n",
    "\n",
    "scenarios = data['Scenario'].unique()\n",
    "scenarios = scenarios[4:8] #what is this? without it we get the error message \"numpy array object has no attribute bars\" - but with it the print(scenarios) list is empty. \n",
    "#print(scenarios)\n",
    "\n",
    "#Use these colors, in this this order, for all figures representing the scenarios (BaU is #bdbdbd, specifically)\n",
    "colors = [\"#8c96c6\",\"#8856a7\",\"#810f7c\"] \n",
    "\n",
    "Region = data['Region'].dropna().unique().astype(str)\n",
    "\n",
    "\n",
    "#This section makes the bars. \n",
    "fig, axs = plt.subplots(3,5, figsize=(15,7), constrained_layout=True) \n",
    "for i in Region:\n",
    "    #print(Region)\n",
    "    #print(i)\n",
    "\n",
    "    iterations = 0\n",
    "    for scenario in scenarios:\n",
    "        if scenario != \"BAU\": #Skip BaU, it's special.\n",
    "            scenario_data = data[data['Scenario'] == scenario]\n",
    "            values = scenario_data['Difference between Scenario + Percentile Target Mean and BaU 2040'].unique() #We have three \"Scenario + Percen...\" values, we only need to plot one for each percentile + Scenario combination\n",
    "            #values = values[1:] #Drop an NA\n",
    "            axs[iterations].bar(target_percentiles, values,color= colors[iterations]) #Bar chart will be three bars. These are the average for the value in 2040 for the given scenario + percentile target combination.\n",
    "            percentile_iterations = 0\n",
    "            axs[iterations].tick_params(labelsize = 'medium') #Can use small font or labelrotation = 45 if these are still overlapping.\n",
    "            #We now need to go to each percentile target, and plot its three year target values\n",
    "            for percentile in target_percentiles:\n",
    "                percentile_values = scenario_data[scenario_data[\"Target Percentile\"] == percentile]\n",
    "                #We need to plot each target year + target percentile + scenario value. This will the value in the year 2040, no extra math.\n",
    "                for i in range(0, len(target_years)):\n",
    "                    dots = scenario_data['Difference from BAU 2040'].unique()\n",
    "                    value = percentile_values[percentile_values['Target Year'] == float(target_years[i])]\n",
    "                    axs[iterations].scatter(percentile_iterations,value['2040'],marker=symbols[i], color=\"gray\", s = 60,edgecolors='black')\n",
    "                percentile_iterations += 1\n",
    "        \n",
    "            #Give the figure its scenario data (name, scenario average)\n",
    "            axs[iterations].set_xlabel(i)\n",
    "            axs[iterations].axhline(y=(sum(values)/len(values)), color=\"black\", linestyle=\"--\")\n",
    "            #Make it match BaU's y-axis\n",
    "            #axs[iterations+2].set_ylim(top=3.5)\n",
    "            #Hide the y-axis, since it shares with BaU\n",
    "            #axs[iterations+2].get_yaxis().set_visible(False)\n",
    "            iterations += 1\n",
    "\n",
    "\n",
    "plt.savefig(figure_directory + \"figure 2 Bars.svg\", format=\"svg\")\n",
    "#plt.clf()\n",
    "#print(values)\n",
    "\n",
    "\n",
    "\n",
    "\n"
   ]
  }
 ],
 "metadata": {
  "kernelspec": {
   "display_name": "Python 3.10.5 64-bit",
   "language": "python",
   "name": "python3"
  },
  "language_info": {
   "codemirror_mode": {
    "name": "ipython",
    "version": 3
   },
   "file_extension": ".py",
   "mimetype": "text/x-python",
   "name": "python",
   "nbconvert_exporter": "python",
   "pygments_lexer": "ipython3",
   "version": "3.10.5"
  },
  "orig_nbformat": 4,
  "vscode": {
   "interpreter": {
    "hash": "f88e5c37f18945978ee7a6a4ff3ca9a40a826c4231477b3c1ef62c3da799c335"
   }
  }
 },
 "nbformat": 4,
 "nbformat_minor": 2
}
